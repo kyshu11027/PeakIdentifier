{
 "cells": [
  {
   "cell_type": "code",
   "execution_count": 225,
   "id": "cff25fd1",
   "metadata": {},
   "outputs": [],
   "source": [
    "import pandas as pd\n",
    "import numpy as np\n",
    "\n",
    "df = pd.read_csv('labeled_peak_windows.csv')\n",
    "labels = df['LABEL']\n",
    "df.drop(columns = ['Container_Well', 'LABEL'], inplace = True)"
   ]
  },
  {
   "cell_type": "code",
   "execution_count": 226,
   "id": "3a4ed1d6",
   "metadata": {},
   "outputs": [
    {
     "name": "stderr",
     "output_type": "stream",
     "text": [
      "C:\\Users\\kshu\\Anaconda3\\lib\\site-packages\\sklearn\\cluster\\_kmeans.py:1334: UserWarning: KMeans is known to have a memory leak on Windows with MKL, when there are less chunks than available threads. You can avoid it by setting the environment variable OMP_NUM_THREADS=3.\n",
      "  warnings.warn(\n"
     ]
    }
   ],
   "source": [
    "from sklearn.cluster import KMeans\n",
    "from sklearn import metrics\n",
    "import matplotlib.pyplot as plt\n",
    "#k = 15, nonzero = 12\n",
    "\n",
    "k = 13\n",
    "nonzero = 10\n",
    "\n",
    "kmeans_model = KMeans(n_clusters = k, init = 'k-means++').fit(df)\n",
    "dictionary = kmeans_model.cluster_centers_"
   ]
  },
  {
   "cell_type": "code",
   "execution_count": 227,
   "id": "7d55a95f",
   "metadata": {},
   "outputs": [
    {
     "name": "stderr",
     "output_type": "stream",
     "text": [
      "C:\\Users\\kshu\\Anaconda3\\lib\\site-packages\\sklearn\\base.py:443: UserWarning: X has feature names, but SparseCoder was fitted without feature names\n",
      "  warnings.warn(\n"
     ]
    }
   ],
   "source": [
    "from sklearn.decomposition import SparseCoder\n",
    "coder = SparseCoder(\n",
    "            dictionary=dictionary,\n",
    "            transform_n_nonzero_coefs=nonzero, \n",
    "            transform_alpha=None,\n",
    "            transform_algorithm=\"omp\",\n",
    "        )\n",
    "\n",
    "\n",
    "x = coder.transform(df)"
   ]
  },
  {
   "cell_type": "code",
   "execution_count": 228,
   "id": "82c9a8ca",
   "metadata": {},
   "outputs": [],
   "source": [
    "#function to train and evaluate models. Appends to a table and returns the table\n",
    "\n",
    "from sklearn.metrics import matthews_corrcoef,accuracy_score,roc_curve,auc\n",
    "from sklearn.preprocessing import LabelEncoder  \n",
    "\n",
    "def run_model(clf, clf_name, X_train, X_test, y_train, y_test, resultsTable):\n",
    "    \n",
    "    #train model\n",
    "    clf = clf.fit(X_train, y_train)\n",
    "    \n",
    "    # Compute some metrics\n",
    "    y_pred = clf.predict(X_test)\n",
    "    le = LabelEncoder()\n",
    "    y_test_num = le.fit_transform(y_test)\n",
    "    y_pred_num = le.fit_transform(y_pred)\n",
    "    fpr, tpr, _ = roc_curve(y_test_num, y_pred_num,pos_label=1)\n",
    "\n",
    "    # Store the results in the table\n",
    "    resultsTable.add_row([clf_name, str(round(accuracy_score(y_test, y_pred),2)), \n",
    "                          str(round(matthews_corrcoef(y_test, y_pred),2)), \n",
    "                          str(round(auc(fpr, tpr),2))])\n",
    "    return resultsTable\n",
    "    \n",
    "    "
   ]
  },
  {
   "cell_type": "markdown",
   "id": "1fa073fb",
   "metadata": {},
   "source": [
    "Running models on only the ten representation numbers for each trace"
   ]
  },
  {
   "cell_type": "code",
   "execution_count": 229,
   "id": "cff897f7",
   "metadata": {
    "scrolled": true
   },
   "outputs": [
    {
     "name": "stdout",
     "output_type": "stream",
     "text": [
      "+---------------------+----------+------+------+\n",
      "|        Model        | Accuracy | MCC  | AUC  |\n",
      "+---------------------+----------+------+------+\n",
      "|    Decision Tree    |   0.88   | 0.49 | 0.63 |\n",
      "|    Random Forest    |   0.94   | 0.77 | 0.69 |\n",
      "| Logistic Regression |   0.87   | 0.27 | 0.45 |\n",
      "|     Naive Bayes     |   0.34   | 0.35 | 0.69 |\n",
      "|         KNN         |   0.93   | 0.72 | 0.67 |\n",
      "+---------------------+----------+------+------+\n"
     ]
    },
    {
     "data": {
      "image/png": "[encoded data removed]",
      "text/plain": [
       "<Figure size 432x288 with 2 Axes>"
      ]
     },
     "metadata": {
      "needs_background": "light"
     },
     "output_type": "display_data"
    },
    {
     "data": {
      "image/png": "[encoded data removed]",
      "text/plain": [
       "<Figure size 432x288 with 2 Axes>"
      ]
     },
     "metadata": {
      "needs_background": "light"
     },
     "output_type": "display_data"
    }
   ],
   "source": [
    "from sklearn.tree import DecisionTreeClassifier\n",
    "from sklearn.ensemble import RandomForestClassifier\n",
    "from sklearn.linear_model import LogisticRegression\n",
    "from sklearn.neighbors import KNeighborsClassifier\n",
    "from sklearn.naive_bayes import GaussianNB\n",
    "from sklearn.metrics import ConfusionMatrixDisplay\n",
    "from sklearn.model_selection import train_test_split\n",
    "from sklearn.preprocessing import StandardScaler\n",
    "from prettytable import PrettyTable\n",
    "\n",
    "resultsTable = PrettyTable()\n",
    "resultsTable.field_names = [\"Model\",\"Accuracy\", \"MCC\", \"AUC\"]\n",
    "\n",
    "#prepare data\n",
    "X = pd.DataFrame(x) #this is the matrix with the ten representation numbers\n",
    "y = labels\n",
    "\n",
    "\n",
    "#necessary fro KNN, not Naive Bayes\n",
    "X = StandardScaler().fit_transform(X)\n",
    "\n",
    "# Split the data into training and test partitions\n",
    "X_train, X_test, y_train, y_test = train_test_split(X, y, test_size=0.33)\n",
    "\n",
    "# Train a Decision tree\n",
    "clf = DecisionTreeClassifier()\n",
    "resultsTable = run_model(clf,'Decision Tree',X_train, X_test, y_train, y_test,resultsTable)\n",
    "# Plot the confusion matrix\n",
    "\n",
    "\n",
    "# Train a Random Forest with 100 trees\n",
    "clf = RandomForestClassifier(n_estimators=100)\n",
    "resultsTable = run_model(clf,'Random Forest',X_train, X_test, y_train, y_test,resultsTable)\n",
    "disp = ConfusionMatrixDisplay.from_estimator(clf, X_test, y_test) \n",
    "disp.ax_.set_title('Random Forest Confusion Matrix')\n",
    "\n",
    "\n",
    "# Now compare to other methods\n",
    "resultsTable = run_model(LogisticRegression(),'Logistic Regression',X_train, X_test, y_train, y_test,resultsTable)\n",
    "resultsTable = run_model(GaussianNB(),'Naive Bayes',X_train, X_test, y_train, y_test,resultsTable)\n",
    "resultsTable = run_model(KNeighborsClassifier(3, weights=\"uniform\"),'KNN',X_train, X_test, y_train, y_test,resultsTable)\n",
    "disp = ConfusionMatrixDisplay.from_estimator(clf, X_test, y_test) \n",
    "disp.ax_.set_title('KNN Confusion Matrix')\n",
    "\n",
    "print(resultsTable)"
   ]
  }
 ],
 "metadata": {
  "kernelspec": {
   "display_name": "Python 3 (ipykernel)",
   "language": "python",
   "name": "python3"
  },
  "language_info": {
   "codemirror_mode": {
    "name": "ipython",
    "version": 3
   },
   "file_extension": ".py",
   "mimetype": "text/x-python",
   "name": "python",
   "nbconvert_exporter": "python",
   "pygments_lexer": "ipython3",
   "version": "3.9.12"
  }
 },
 "nbformat": 4,
 "nbformat_minor": 5
}
